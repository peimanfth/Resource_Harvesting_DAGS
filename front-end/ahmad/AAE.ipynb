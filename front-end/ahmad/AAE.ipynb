{
 "cells": [
  {
   "cell_type": "code",
   "execution_count": 18,
   "metadata": {},
   "outputs": [],
   "source": [
    "import torch\n",
    "import numpy as np\n",
    "from torch.utils.data import Dataset, DataLoader\n",
    "from dataset import MyDataset\n",
    "\n",
    "# device\n",
    "device = 'cuda' if torch.cuda.is_available() else 'cpu'\n",
    "\n",
    "# Assuming the 'dataset.csv' path is correct and available\n",
    "train_dataset = MyDataset(\"dataset.csv\", mode='train', test_size=1/3, random_state=42)\n",
    "test_dataset = MyDataset(\"dataset.csv\", mode='test', test_size=1/3, random_state=42)\n",
    "\n",
    "train_dataloader = DataLoader(train_dataset, batch_size=256, shuffle=True)\n",
    "test_dataloader = DataLoader(test_dataset, batch_size=256, shuffle=False)  # Usually, we don't shuffle the test data\n",
    "\n",
    "\n",
    "def normalize(x):\n",
    "        iterations_range = (5000, 120000)\n",
    "        processes_range = (1, 8)\n",
    "        length_of_message_range = (50, 500)\n",
    "        min = torch.tensor([iterations_range[0], processes_range[0], length_of_message_range[0]]).to(device)\n",
    "        max = torch.tensor([iterations_range[1], processes_range[1], length_of_message_range[1]]).to(device)\n",
    "        x -= min\n",
    "        x /= max\n",
    "        return x"
   ]
  },
  {
   "cell_type": "code",
   "execution_count": 19,
   "metadata": {},
   "outputs": [],
   "source": [
    "import torch.nn as nn\n",
    "import torch.nn.functional as F\n",
    "\n",
    "class SimpleAutoencoder(nn.Module):\n",
    "    def __init__(self):\n",
    "        super(SimpleAutoencoder, self).__init__()\n",
    "        # Encoder\n",
    "        self.encoder = nn.Sequential(\n",
    "            nn.Linear(3, 128),\n",
    "            nn.ReLU(True),\n",
    "            nn.Linear(128, 2)\n",
    "        )\n",
    "        # Decoder\n",
    "        self.decoder = nn.Sequential(\n",
    "            nn.Linear(2, 128),\n",
    "            nn.ReLU(True),\n",
    "            nn.Linear(128, 3),\n",
    "            nn.Sigmoid()  # Use Sigmoid to ensure output is between 0 and 1 (since our data is normalized)\n",
    "        )\n",
    "\n",
    "    def forward(self, x):\n",
    "        x = self.encoder(x)\n",
    "        x = self.decoder(x)\n",
    "        return x\n"
   ]
  },
  {
   "cell_type": "code",
   "execution_count": 20,
   "metadata": {},
   "outputs": [
    {
     "name": "stdout",
     "output_type": "stream",
     "text": [
      "Epoch [1/500], Loss: 0.0904\n",
      "Epoch [101/500], Loss: 0.0013\n",
      "Epoch [201/500], Loss: 0.0011\n",
      "Epoch [301/500], Loss: 0.0009\n",
      "Epoch [401/500], Loss: 0.0008\n"
     ]
    }
   ],
   "source": [
    "# Define the model\n",
    "model = SimpleAutoencoder().to(device)\n",
    "\n",
    "# Loss function\n",
    "criterion = nn.MSELoss()\n",
    "\n",
    "# Optimizer\n",
    "optimizer = torch.optim.Adam(model.parameters(), lr=0.001)\n",
    "\n",
    "# Training loop\n",
    "num_epochs = 500  # You can adjust this\n",
    "\n",
    "for epoch in range(num_epochs):\n",
    "    for input, _ in train_dataloader:\n",
    "        # normalize the input\n",
    "        input = normalize(input.to(device))\n",
    "        # Forward pass\n",
    "        output = model(input)\n",
    "        loss = criterion(output, input)\n",
    "        # Backward pass and optimize\n",
    "        optimizer.zero_grad()\n",
    "        loss.backward()\n",
    "        optimizer.step()\n",
    "    # Log progress\n",
    "    if epoch % 100 == 0:\n",
    "        print(f'Epoch [{epoch+1}/{num_epochs}], Loss: {loss.item():.4f}')"
   ]
  },
  {
   "cell_type": "code",
   "execution_count": 21,
   "metadata": {},
   "outputs": [
    {
     "data": {
      "text/plain": [
       "'./encoded_test_data.csv'"
      ]
     },
     "execution_count": 21,
     "metadata": {},
     "output_type": "execute_result"
    }
   ],
   "source": [
    "import pandas as pd\n",
    "\n",
    "# Ensure the model is in evaluation mode\n",
    "model.eval()\n",
    "\n",
    "# Prepare a container for our data\n",
    "data_to_save = []\n",
    "\n",
    "# Loop through the test dataset\n",
    "for input, _ in test_dataloader:\n",
    "    # Normalize and move the input to the appropriate device\n",
    "    input = normalize(input.to(device))\n",
    "    \n",
    "    # Forward pass through the encoder only\n",
    "    encoded = model.encoder(input).detach().cpu().numpy()\n",
    "    \n",
    "    # Convert input to numpy for easy processing\n",
    "    original_input = input.detach().cpu().numpy()\n",
    "    \n",
    "    # Collect the original inputs and their encoded representations\n",
    "    for original, enc in zip(original_input, encoded):\n",
    "        data_to_save.append(list(original) + list(enc))\n",
    "\n",
    "# Convert to DataFrame\n",
    "df = pd.DataFrame(data_to_save, columns=['Input1', 'Input2', 'Input3', 'Encoded1', 'Encoded2'])\n",
    "\n",
    "# Save to CSV\n",
    "csv_file_path = './encoded_test_data.csv'\n",
    "df.to_csv(csv_file_path, index=False)\n",
    "\n",
    "csv_file_path\n"
   ]
  },
  {
   "cell_type": "code",
   "execution_count": 5,
   "metadata": {},
   "outputs": [
    {
     "name": "stdout",
     "output_type": "stream",
     "text": [
      "Input: tensor([0.1250, 0.3750, 0.6000], device='cuda:0')\n",
      "Encoded: tensor([ 1.0498, -0.3082], device='cuda:0')\n",
      "Decoded: tensor([0.1587, 0.3468, 0.6019], device='cuda:0')\n"
     ]
    }
   ],
   "source": [
    "example_input, _ = next(iter(test_dataloader))\n",
    "example_input = example_input.to(device)\n",
    "example_input = normalize(example_input)\n",
    "\n",
    "with torch.no_grad():\n",
    "    encoded = model.encoder(example_input)\n",
    "    decoded = model.decoder(encoded)\n",
    "\n",
    "print(f'Input: {example_input[0]}')\n",
    "print(f'Encoded: {encoded[0]}')\n",
    "print(f'Decoded: {decoded[0]}')"
   ]
  },
  {
   "cell_type": "code",
   "execution_count": 6,
   "metadata": {},
   "outputs": [],
   "source": [
    "import torch\n",
    "import torch.nn as nn\n",
    "import torch.nn.functional as F\n",
    "\n",
    "class PredictionNN(nn.Module):\n",
    "    def __init__(self):\n",
    "        super(PredictionNN, self).__init__()\n",
    "        # Input layer takes the 2D output from the encoder\n",
    "        self.layer1 = nn.Linear(2, 128)\n",
    "        self.layer2 = nn.Linear(128, 128)\n",
    "        self.layer3 = nn.Linear(128, 128)\n",
    "        # Adjusted output layer to produce a vector of size 2\n",
    "        self.output_layer = nn.Linear(128, 2)\n",
    "\n",
    "    def forward(self, x):\n",
    "        x = F.relu(self.layer1(x))\n",
    "        x = F.relu(self.layer2(x))\n",
    "        x = F.relu(self.layer3(x))\n",
    "        # No activation function here; can be added based on the specific requirements of the output\n",
    "        x = F.relu(self.output_layer(x))\n",
    "        return x\n"
   ]
  },
  {
   "cell_type": "code",
   "execution_count": 7,
   "metadata": {},
   "outputs": [
    {
     "name": "stderr",
     "output_type": "stream",
     "text": [
      "/home/peiman/miniconda3/envs/nimbus/lib/python3.12/site-packages/torch/nn/modules/loss.py:535: UserWarning: Using a target size (torch.Size([256])) that is different to the input size (torch.Size([256, 1])). This will likely lead to incorrect results due to broadcasting. Please ensure they have the same size.\n",
      "  return F.mse_loss(input, target, reduction=self.reduction)\n",
      "/home/peiman/miniconda3/envs/nimbus/lib/python3.12/site-packages/torch/nn/modules/loss.py:535: UserWarning: Using a target size (torch.Size([232])) that is different to the input size (torch.Size([232, 1])). This will likely lead to incorrect results due to broadcasting. Please ensure they have the same size.\n",
      "  return F.mse_loss(input, target, reduction=self.reduction)\n"
     ]
    },
    {
     "name": "stdout",
     "output_type": "stream",
     "text": [
      "Epoch [1/300], Loss: 29.3529\n",
      "Epoch [101/300], Loss: 25.5227\n",
      "Epoch [201/300], Loss: 26.3190\n"
     ]
    }
   ],
   "source": [
    "# Define the model\n",
    "pred_model = PredictionNN().to(device)\n",
    "\n",
    "# Loss function\n",
    "criterion = nn.MSELoss()\n",
    "\n",
    "# Optimizer\n",
    "optimizer = torch.optim.Adam(pred_model.parameters(), lr=0.0001)\n",
    "\n",
    "# Training loop\n",
    "num_epochs = 300 \n",
    "\n",
    "for epoch in range(num_epochs):\n",
    "    for input, label in train_dataloader:\n",
    "        # normalize the input\n",
    "        input = normalize(input.to(device))\n",
    "        label = label.to(device)\n",
    "        encoded = model.encoder(input)\n",
    "        # Forward pass\n",
    "        output = pred_model(encoded)\n",
    "        loss = criterion(output, label)\n",
    "        # Backward pass and optimize\n",
    "        optimizer.zero_grad()\n",
    "        loss.backward()\n",
    "        optimizer.step()\n",
    "    # Log progress\n",
    "    if epoch % 100 == 0:\n",
    "        print(f'Epoch [{epoch+1}/{num_epochs}], Loss: {loss.item():.4f}')"
   ]
  },
  {
   "cell_type": "code",
   "execution_count": 15,
   "metadata": {},
   "outputs": [
    {
     "data": {
      "text/plain": [
       "'./prediction_results.csv'"
      ]
     },
     "execution_count": 15,
     "metadata": {},
     "output_type": "execute_result"
    }
   ],
   "source": [
    "import pandas as pd\n",
    "\n",
    "# Ensure the model is in evaluation mode\n",
    "pred_model.eval()\n",
    "\n",
    "# Container for data\n",
    "data_to_save = []\n",
    "\n",
    "# No gradients needed for inference\n",
    "with torch.no_grad():\n",
    "    for input, label in test_dataloader:\n",
    "        # Normalize and move the input to the appropriate device\n",
    "        input = normalize(input.to(device))\n",
    "        label = label.to(device)\n",
    "        \n",
    "        # Encode the input\n",
    "        encoded = model.encoder(input)\n",
    "        \n",
    "        # Perform prediction\n",
    "        predicted = pred_model(encoded).cpu().numpy()\n",
    "        \n",
    "        # Collect actual labels, predicted values, and encodings\n",
    "        actual_labels = label.cpu().numpy()\n",
    "        encodings = encoded.cpu().numpy()\n",
    "        \n",
    "        for actual, pred, enc in zip(actual_labels, predicted, encodings):\n",
    "            data_to_save.append(list(enc) + list(actual) + list(pred))\n",
    "\n",
    "# Convert to DataFrame\n",
    "columns = ['Encoded1', 'Encoded2', 'Actual1', 'Actual2', 'Predicted1', 'Predicted2']\n",
    "# columns = ['Encoded1', 'Encoded2', 'Actual', 'Predicted']\n",
    "df = pd.DataFrame(data_to_save, columns=columns)\n",
    "\n",
    "# Save to CSV\n",
    "csv_file_path = './prediction_results.csv'\n",
    "df.to_csv(csv_file_path, index=False)\n",
    "\n",
    "csv_file_path\n",
    "\n"
   ]
  },
  {
   "cell_type": "code",
   "execution_count": 58,
   "metadata": {},
   "outputs": [
    {
     "name": "stdout",
     "output_type": "stream",
     "text": [
      "Input: tensor([0.7083, 0.6250, 0.4000], device='cuda:0')\n",
      "Encoded: tensor([ 1.0198, -0.4764], device='cuda:0')\n",
      "Decoded: tensor([0.7099, 0.6244, 0.3986], device='cuda:0')\n",
      "Label: tensor([37.9658,  2.0052], device='cuda:0')\n",
      "Prediction: tensor([36.2300,  2.6684], device='cuda:0')\n"
     ]
    }
   ],
   "source": [
    "example_input, label = next(iter(dataloader))\n",
    "example_input, label = example_input.to(device), label.to(device)\n",
    "example_input = normalize(example_input)\n",
    "\n",
    "with torch.no_grad():\n",
    "    encoded = model.encoder(example_input)\n",
    "    decoded = model.decoder(encoded)\n",
    "\n",
    "    prediction = pred_model(encoded)\n",
    "\n",
    "print(f'Input: {example_input[0]}')\n",
    "print(f'Encoded: {encoded[0]}')\n",
    "print(f'Decoded: {decoded[0]}')\n",
    "print(f'Label: {label[0]}')\n",
    "print(f'Prediction: {prediction[0]}')"
   ]
  },
  {
   "cell_type": "code",
   "execution_count": 17,
   "metadata": {},
   "outputs": [
    {
     "data": {
      "text/plain": [
       "(0.58, './cpu_usage_error_list.csv')"
      ]
     },
     "execution_count": 17,
     "metadata": {},
     "output_type": "execute_result"
    }
   ],
   "source": [
    "import pandas as pd\n",
    "\n",
    "# Load the data\n",
    "df = pd.read_csv('./prediction_results.csv')\n",
    "\n",
    "# Extract Actual2 and Predicted2 columns\n",
    "y_actual = df['Actual'].to_numpy()\n",
    "y_predicted = df['Predicted'].to_numpy()\n",
    "\n",
    "# Define the function\n",
    "def calculate_cpu_usage_error_rate(y_actual, y_predicted):\n",
    "    errors = 0\n",
    "    error_list = []\n",
    "    for actual, predicted in zip(y_actual, y_predicted):\n",
    "        actualError = abs(actual - predicted) / actual\n",
    "        error_list.append(actualError)\n",
    "        if not (int(actual) <= predicted < int(actual) + 1):\n",
    "            errors += 1\n",
    "    error_rate = errors / len(y_actual)\n",
    "    return error_rate, error_list\n",
    "\n",
    "# Apply the function\n",
    "error_rate, error_list = calculate_cpu_usage_error_rate(y_actual, y_predicted)\n",
    "\n",
    "# Optionally, save the error list to a new CSV file\n",
    "error_df = pd.DataFrame({'Error': error_list})\n",
    "error_csv_path = './cpu_usage_error_list.csv'\n",
    "error_df.to_csv(error_csv_path, index=False)\n",
    "\n",
    "(error_rate, error_csv_path)\n"
   ]
  },
  {
   "cell_type": "code",
   "execution_count": 23,
   "metadata": {},
   "outputs": [
    {
     "data": {
      "text/plain": [
       "(0.024, './memory_usage_error_list.csv')"
      ]
     },
     "execution_count": 23,
     "metadata": {},
     "output_type": "execute_result"
    }
   ],
   "source": [
    "import pandas as pd\n",
    "\n",
    "# Load the data\n",
    "df = pd.read_csv('./prediction_results.csv')\n",
    "\n",
    "# Extract Actual2 and Predicted2 columns\n",
    "y_actual = df['Actual1'].to_numpy()\n",
    "y_predicted = df['Predicted1'].to_numpy()\n",
    "\n",
    "# Define the function\n",
    "def calculate_memory_usage_error_rate(y_actual, y_predicted):\n",
    "        \"\"\"\n",
    "        Calculate the error rate for memory usage predictions based on the criteria:\n",
    "        A prediction is considered an error if it falls outside the +5 and -5 range of the actual value.\n",
    "        \n",
    "        Args:\n",
    "            y_actual (array-like): The actual memory usage values.\n",
    "            y_predicted (array-like): The predicted memory usage values.\n",
    "            \n",
    "        Returns:\n",
    "            float: The error rate.\n",
    "            list: The list of errors.\n",
    "        \"\"\"\n",
    "        errors = 0\n",
    "        error_list = []\n",
    "        for actual, predicted in zip(y_actual, y_predicted):\n",
    "            actualError = abs(actual - predicted)/actual\n",
    "            error_list.append(actualError)\n",
    "            if not (actual - 5 <= predicted <= actual + 5):\n",
    "                errors += 1\n",
    "        \n",
    "        error_rate = errors / len(y_actual)\n",
    "        return error_rate,error_list\n",
    "\n",
    "# Apply the function\n",
    "error_rate, error_list = calculate_memory_usage_error_rate(y_actual, y_predicted)\n",
    "\n",
    "# Optionally, save the error list to a new CSV file\n",
    "error_df = pd.DataFrame({'Error': error_list})\n",
    "error_csv_path = './memory_usage_error_list.csv'\n",
    "error_df.to_csv(error_csv_path, index=False)\n",
    "\n",
    "(error_rate, error_csv_path)\n"
   ]
  }
 ],
 "metadata": {
  "kernelspec": {
   "display_name": "Python 3",
   "language": "python",
   "name": "python3"
  },
  "language_info": {
   "codemirror_mode": {
    "name": "ipython",
    "version": 3
   },
   "file_extension": ".py",
   "mimetype": "text/x-python",
   "name": "python",
   "nbconvert_exporter": "python",
   "pygments_lexer": "ipython3",
   "version": "3.12.2"
  }
 },
 "nbformat": 4,
 "nbformat_minor": 2
}
