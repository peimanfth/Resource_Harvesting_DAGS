{
 "cells": [
  {
   "cell_type": "code",
   "execution_count": 1,
   "metadata": {},
   "outputs": [],
   "source": [
    "import torch\n",
    "import numpy as np\n",
    "from torch.utils.data import Dataset, DataLoader\n",
    "from dataset import MyDataset\n",
    "\n",
    "# device\n",
    "device = 'cuda' if torch.cuda.is_available() else 'cpu'\n",
    "\n",
    "dataset = MyDataset(\"dataset.csv\")\n",
    "dataloader = DataLoader(dataset, batch_size=256, shuffle=True)\n",
    "\n",
    "def normalize(x):\n",
    "        iterations_range = (5000, 120000)\n",
    "        processes_range = (1, 8)\n",
    "        length_of_message_range = (50, 500)\n",
    "        min = torch.tensor([iterations_range[0], processes_range[0], length_of_message_range[0]]).to(device)\n",
    "        max = torch.tensor([iterations_range[1], processes_range[1], length_of_message_range[1]]).to(device)\n",
    "        x -= min\n",
    "        x /= max\n",
    "        return x"
   ]
  },
  {
   "cell_type": "code",
   "execution_count": 2,
   "metadata": {},
   "outputs": [],
   "source": [
    "import torch.nn as nn\n",
    "import torch.nn.functional as F\n",
    "\n",
    "class SimpleAutoencoder(nn.Module):\n",
    "    def __init__(self):\n",
    "        super(SimpleAutoencoder, self).__init__()\n",
    "        # Encoder\n",
    "        self.encoder = nn.Sequential(\n",
    "            nn.Linear(3, 128),\n",
    "            nn.ReLU(True),\n",
    "            nn.Linear(128, 2)\n",
    "        )\n",
    "        # Decoder\n",
    "        self.decoder = nn.Sequential(\n",
    "            nn.Linear(2, 128),\n",
    "            nn.ReLU(True),\n",
    "            nn.Linear(128, 3),\n",
    "            nn.Sigmoid()  # Use Sigmoid to ensure output is between 0 and 1 (since our data is normalized)\n",
    "        )\n",
    "\n",
    "    def forward(self, x):\n",
    "        x = self.encoder(x)\n",
    "        x = self.decoder(x)\n",
    "        return x\n"
   ]
  },
  {
   "cell_type": "code",
   "execution_count": 3,
   "metadata": {},
   "outputs": [
    {
     "name": "stdout",
     "output_type": "stream",
     "text": [
      "Epoch [23/500], Loss: 0.0025\n",
      "Epoch [123/500], Loss: 0.0010\n",
      "Epoch [223/500], Loss: 0.0010\n",
      "Epoch [323/500], Loss: 0.0007\n",
      "Epoch [423/500], Loss: 0.0006\n"
     ]
    }
   ],
   "source": [
    "# Define the model\n",
    "model = SimpleAutoencoder().to(device)\n",
    "\n",
    "# Loss function\n",
    "criterion = nn.MSELoss()\n",
    "\n",
    "# Optimizer\n",
    "optimizer = torch.optim.Adam(model.parameters(), lr=0.001)\n",
    "\n",
    "# Training loop\n",
    "num_epochs = 500  # You can adjust this\n",
    "\n",
    "for epoch in range(num_epochs):\n",
    "    for input, _ in dataloader:\n",
    "        # normalize the input\n",
    "        input = normalize(input.to(device))\n",
    "        # Forward pass\n",
    "        output = model(input)\n",
    "        loss = criterion(output, input)\n",
    "        # Backward pass and optimize\n",
    "        optimizer.zero_grad()\n",
    "        loss.backward()\n",
    "        optimizer.step()\n",
    "    # Log progress\n",
    "    if epoch % 100 == 0:\n",
    "        print(f'Epoch [{epoch+1}/{num_epochs}], Loss: {loss.item():.4f}')"
   ]
  },
  {
   "cell_type": "code",
   "execution_count": 4,
   "metadata": {},
   "outputs": [
    {
     "name": "stdout",
     "output_type": "stream",
     "text": [
      "Input: tensor([0.0833, 0.2500, 0.0000], device='cuda:0')\n",
      "Encoded: tensor([-1.0955, -0.1517], device='cuda:0')\n",
      "Decoded: tensor([0.1082, 0.2431, 0.0045], device='cuda:0')\n"
     ]
    }
   ],
   "source": [
    "example_input, _ = next(iter(dataloader))\n",
    "example_input = example_input.to(device)\n",
    "example_input = normalize(example_input)\n",
    "\n",
    "with torch.no_grad():\n",
    "    encoded = model.encoder(example_input)\n",
    "    decoded = model.decoder(encoded)\n",
    "\n",
    "print(f'Input: {example_input[0]}')\n",
    "print(f'Encoded: {encoded[0]}')\n",
    "print(f'Decoded: {decoded[0]}')"
   ]
  },
  {
   "cell_type": "code",
   "execution_count": 5,
   "metadata": {},
   "outputs": [],
   "source": [
    "import torch\n",
    "import torch.nn as nn\n",
    "import torch.nn.functional as F\n",
    "\n",
    "class PredictionNN(nn.Module):\n",
    "    def __init__(self):\n",
    "        super(PredictionNN, self).__init__()\n",
    "        # Input layer takes the 2D output from the encoder\n",
    "        self.layer1 = nn.Linear(2, 128)\n",
    "        self.layer2 = nn.Linear(128, 128)\n",
    "        self.layer3 = nn.Linear(128, 128)\n",
    "        # Adjusted output layer to produce a vector of size 2\n",
    "        self.output_layer = nn.Linear(128, 2)\n",
    "\n",
    "    def forward(self, x):\n",
    "        x = F.relu(self.layer1(x))\n",
    "        x = F.relu(self.layer2(x))\n",
    "        x = F.relu(self.layer3(x))\n",
    "        # No activation function here; can be added based on the specific requirements of the output\n",
    "        x = F.relu(self.output_layer(x))\n",
    "        return x\n"
   ]
  },
  {
   "cell_type": "code",
   "execution_count": 50,
   "metadata": {},
   "outputs": [
    {
     "name": "stdout",
     "output_type": "stream",
     "text": [
      "Epoch [1/300], Loss: 428.7997\n",
      "Epoch [101/300], Loss: 10.6818\n",
      "Epoch [201/300], Loss: 1.4567\n"
     ]
    }
   ],
   "source": [
    "# Define the model\n",
    "pred_model = PredictionNN().to(device)\n",
    "\n",
    "# Loss function\n",
    "criterion = nn.MSELoss()\n",
    "\n",
    "# Optimizer\n",
    "optimizer = torch.optim.Adam(pred_model.parameters(), lr=0.0001)\n",
    "\n",
    "# Training loop\n",
    "num_epochs = 300 \n",
    "\n",
    "for epoch in range(num_epochs):\n",
    "    for input, label in dataloader:\n",
    "        # normalize the input\n",
    "        input = normalize(input.to(device))\n",
    "        label = label.to(device)\n",
    "        encoded = model.encoder(input)\n",
    "        # Forward pass\n",
    "        output = pred_model(encoded)\n",
    "        loss = criterion(output, label)\n",
    "        # Backward pass and optimize\n",
    "        optimizer.zero_grad()\n",
    "        loss.backward()\n",
    "        optimizer.step()\n",
    "    # Log progress\n",
    "    if epoch % 100 == 0:\n",
    "        print(f'Epoch [{epoch+1}/{num_epochs}], Loss: {loss.item():.4f}')"
   ]
  },
  {
   "cell_type": "code",
   "execution_count": 58,
   "metadata": {},
   "outputs": [
    {
     "name": "stdout",
     "output_type": "stream",
     "text": [
      "Input: tensor([0.7083, 0.6250, 0.4000], device='cuda:0')\n",
      "Encoded: tensor([ 1.0198, -0.4764], device='cuda:0')\n",
      "Decoded: tensor([0.7099, 0.6244, 0.3986], device='cuda:0')\n",
      "Label: tensor([37.9658,  2.0052], device='cuda:0')\n",
      "Prediction: tensor([36.2300,  2.6684], device='cuda:0')\n"
     ]
    }
   ],
   "source": [
    "example_input, label = next(iter(dataloader))\n",
    "example_input, label = example_input.to(device), label.to(device)\n",
    "example_input = normalize(example_input)\n",
    "\n",
    "with torch.no_grad():\n",
    "    encoded = model.encoder(example_input)\n",
    "    decoded = model.decoder(encoded)\n",
    "\n",
    "    prediction = pred_model(encoded)\n",
    "\n",
    "print(f'Input: {example_input[0]}')\n",
    "print(f'Encoded: {encoded[0]}')\n",
    "print(f'Decoded: {decoded[0]}')\n",
    "print(f'Label: {label[0]}')\n",
    "print(f'Prediction: {prediction[0]}')"
   ]
  },
  {
   "cell_type": "code",
   "execution_count": null,
   "metadata": {},
   "outputs": [],
   "source": []
  }
 ],
 "metadata": {
  "kernelspec": {
   "display_name": "Python 3",
   "language": "python",
   "name": "python3"
  },
  "language_info": {
   "codemirror_mode": {
    "name": "ipython",
    "version": 3
   },
   "file_extension": ".py",
   "mimetype": "text/x-python",
   "name": "python",
   "nbconvert_exporter": "python",
   "pygments_lexer": "ipython3",
   "version": "3.10.12"
  }
 },
 "nbformat": 4,
 "nbformat_minor": 2
}
